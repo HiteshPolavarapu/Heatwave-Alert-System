{
 "cells": [
  {
   "cell_type": "code",
   "execution_count": 1,
   "id": "f4bec9c9",
   "metadata": {},
   "outputs": [
    {
     "name": "stdout",
     "output_type": "stream",
     "text": [
      "SUCCESS! The Conda environment is working correctly in VS Code.\n",
      "We are using pandas version: 2.3.2\n",
      "\n",
      "This notebook is using the Python interpreter located at:\n",
      "c:\\Users\\hites\\miniconda3\\envs\\heatwave_env\\python.exe\n"
     ]
    }
   ],
   "source": [
    "import pandas as pd\n",
    "import sys\n",
    "\n",
    "print(\"SUCCESS! The Conda environment is working correctly in VS Code.\")\n",
    "print(f\"We are using pandas version: {pd.__version__}\")\n",
    "print(\"\\nThis notebook is using the Python interpreter located at:\")\n",
    "print(sys.executable)"
   ]
  }
 ],
 "metadata": {
  "kernelspec": {
   "display_name": "heatwave_env",
   "language": "python",
   "name": "python3"
  },
  "language_info": {
   "codemirror_mode": {
    "name": "ipython",
    "version": 3
   },
   "file_extension": ".py",
   "mimetype": "text/x-python",
   "name": "python",
   "nbconvert_exporter": "python",
   "pygments_lexer": "ipython3",
   "version": "3.11.13"
  }
 },
 "nbformat": 4,
 "nbformat_minor": 5
}
